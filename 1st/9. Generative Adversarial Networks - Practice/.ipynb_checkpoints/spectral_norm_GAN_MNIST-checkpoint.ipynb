{
 "cells": [
  {
   "cell_type": "markdown",
   "metadata": {},
   "source": [
    "# Dataset Load"
   ]
  },
  {
   "cell_type": "code",
   "execution_count": 28,
   "metadata": {},
   "outputs": [
    {
     "name": "stdout",
     "output_type": "stream",
     "text": [
      "(60000, 28, 28)\n"
     ]
    }
   ],
   "source": [
    "import numpy as np\n",
    "import tensorflow as tf\n",
    "cifar = tf.keras.datasets.mnist\n",
    "\n",
    "(x_train, y_train),(x_test, y_test) = cifar.load_data()\n",
    "x_train, x_test = (x_train / 255.0 * 2 - 1), (x_test / 255.0 * 2 - 1)\n",
    "\n",
    "print(x_train.shape)\n"
   ]
  },
  {
   "cell_type": "markdown",
   "metadata": {},
   "source": [
    "# Hyperparameters"
   ]
  },
  {
   "cell_type": "code",
   "execution_count": 16,
   "metadata": {},
   "outputs": [],
   "source": [
    "Batch = None\n",
    "Height = 28\n",
    "Width = 28\n",
    "Channels = 1\n"
   ]
  },
  {
   "cell_type": "markdown",
   "metadata": {},
   "source": [
    "# Spectral Normalization"
   ]
  },
  {
   "cell_type": "code",
   "execution_count": 17,
   "metadata": {},
   "outputs": [],
   "source": [
    "# code from https://github.com/taki0112/Spectral_Normalization-Tensorflow\n",
    "def spectral_norm(w, iteration=1):\n",
    "    w_shape = w.shape.as_list()\n",
    "    w = tf.reshape(w, [-1, w_shape[-1]])\n",
    "\n",
    "    u = tf.get_variable(\"u\", [1, w_shape[-1]], initializer=tf.random_normal_initializer(), trainable=False)\n",
    "\n",
    "    u_hat = u\n",
    "    v_hat = None\n",
    "    for i in range(iteration):\n",
    "        \"\"\"\n",
    "        power iteration\n",
    "        Usually iteration = 1 will be enough\n",
    "        \"\"\"\n",
    "        v_ = tf.matmul(u_hat, tf.transpose(w))\n",
    "        v_hat = tf.nn.l2_normalize(v_) \n",
    "\n",
    "        u_ = tf.matmul(v_hat, w)\n",
    "        u_hat = tf.nn.l2_normalize(u_)\n",
    "\n",
    "    u_hat = tf.stop_gradient(u_hat)\n",
    "    v_hat = tf.stop_gradient(v_hat)\n",
    "\n",
    "    sigma = tf.matmul(tf.matmul(v_hat, w), tf.transpose(u_hat))\n",
    "\n",
    "    with tf.control_dependencies([u.assign(u_hat)]):\n",
    "        w_norm = w / sigma\n",
    "        w_norm = tf.reshape(w_norm, w_shape)\n",
    "\n",
    "\n",
    "    return w_norm\n"
   ]
  },
  {
   "cell_type": "markdown",
   "metadata": {},
   "source": [
    "# Conv, Decov, Linear, Batch normalization Modules"
   ]
  },
  {
   "cell_type": "code",
   "execution_count": 31,
   "metadata": {},
   "outputs": [],
   "source": [
    "def deconv(x, output_shape, kernel_size=4, strides=[1, 2, 2, 1], name='deconv', norm=lambda x: x):\n",
    "    with tf.variable_scope(name):\n",
    "        w = tf.get_variable('w', shape=[kernel_size, kernel_size, output_shape[-1], x.get_shape()[-1]], \n",
    "                initializer=tf.random_normal_initializer(stddev=0.02))\n",
    "        deconv = tf.nn.conv2d_transpose(x, norm(w), output_shape=output_shape, strides=strides)\n",
    "        \n",
    "        biases = tf.get_variable('biases', [output_shape[-1]], initializer=tf.constant_initializer(0.0))\n",
    "        deconv = tf.reshape(tf.nn.bias_add(deconv, biases), tf.shape(deconv))\n",
    "\n",
    "        return deconv\n",
    "    \n",
    "def conv(x, output_dim, kernel_size=4, strides=[1, 2, 2, 1], name='conv', norm=lambda x: x):\n",
    "    with tf.variable_scope(name):\n",
    "        w = tf.get_variable('w', shape=[kernel_size, kernel_size, x.get_shape()[-1], output_dim], \n",
    "                initializer=tf.random_normal_initializer(stddev=0.02))\n",
    "        conv = tf.nn.conv2d(x, norm(w), strides=strides, padding='SAME')\n",
    "        \n",
    "        biases = tf.get_variable('biases', [output_dim], initializer=tf.constant_initializer(0.0))\n",
    "        conv = tf.reshape(tf.nn.bias_add(conv, biases), tf.shape(conv))\n",
    "\n",
    "        return conv\n",
    "    \n",
    "def linear(x, output_dim, name='linear', norm=lambda x: x):\n",
    "    with tf.variable_scope(name):\n",
    "        w = tf.get_variable('w', shape=[x.shape[-1], output_dim], \n",
    "                        initializer=tf.random_normal_initializer(stddev=0.02))        \n",
    "        b = tf.get_variable('biases', [output_dim], initializer=tf.constant_initializer(0.0))\n",
    "        \n",
    "        return x @ norm(w) + b        \n",
    "    \n",
    "def bn(x, is_training=False, scope='bn'):\n",
    "    return tf.contrib.layers.batch_norm(x,\n",
    "                                        decay=0.9,\n",
    "                                        updates_collections=None,\n",
    "                                        epsilon=1e-5,\n",
    "                                        scale=True,\n",
    "                                        is_training=is_training,\n",
    "                                        scope=scope)\n"
   ]
  },
  {
   "cell_type": "markdown",
   "metadata": {},
   "source": [
    "# Generator and Discriminator"
   ]
  },
  {
   "cell_type": "code",
   "execution_count": 35,
   "metadata": {},
   "outputs": [],
   "source": [
    "def generator(z, is_training=True, reuse=False):\n",
    "    with tf.variable_scope(\"generator\", reuse=reuse):\n",
    "        batch = tf.shape(z)[0]\n",
    "        \n",
    "        x = tf.nn.relu(bn(linear(z, 7 * 7 * 64), scope='bn1'))\n",
    "        x = tf.reshape(x, [batch, 7, 7, 64])\n",
    "        x = tf.nn.relu(bn(deconv(x, [batch, 14, 14, 32], 3, name='deconv1'), scope='bn3'))\n",
    "        x = tf.nn.relu(bn(deconv(x, [batch, 28, 28, 16], 3, name='deconv2'), scope='bn4'))\n",
    "        x = tf.nn.tanh(conv(x, 1, 1, strides=[1, 1, 1, 1], name='conv'))\n",
    "\n",
    "        return x\n",
    "\n",
    "def discriminator(x, is_training=True, reuse=False):\n",
    "    with tf.variable_scope(\"discriminator\", reuse=reuse):\n",
    "        batch = tf.shape(z)[0]\n",
    "        \n",
    "        y = tf.nn.leaky_relu(bn(conv(x, 32, 3, name='conv2', norm=spectral_norm), scope='bn2'))\n",
    "        y = tf.nn.leaky_relu(bn(conv(y, 64, 3, name='conv3', norm=spectral_norm), scope='bn3'))\n",
    "        y = tf.reshape(y, [batch, 7 * 7 * 64])\n",
    "        \n",
    "        y = linear(y, 1, 'linear1', norm=spectral_norm)\n",
    "        \n",
    "        return y\n",
    "\n"
   ]
  },
  {
   "cell_type": "markdown",
   "metadata": {},
   "source": [
    "# Naive GAN loss"
   ]
  },
  {
   "cell_type": "code",
   "execution_count": 36,
   "metadata": {},
   "outputs": [],
   "source": [
    "def get_gan_loss(d_real_logits, d_fake_logits):\n",
    "\n",
    "    d_real = tf.nn.sigmoid(d_real_logits)\n",
    "    d_fake = tf.nn.sigmoid(d_fake_logits)\n",
    "    \n",
    "    eps = 1e-5    \n",
    "    d_loss = tf.reduce_mean(-tf.log(d_real + eps) - tf.log(1 - d_fake + eps))\n",
    "    g_loss = tf.reduce_mean(-tf.log(d_fake + eps))\n",
    "    \n",
    "    return g_loss, d_loss\n"
   ]
  },
  {
   "cell_type": "markdown",
   "metadata": {},
   "source": [
    "# Draw Graph"
   ]
  },
  {
   "cell_type": "code",
   "execution_count": 37,
   "metadata": {},
   "outputs": [
    {
     "name": "stdout",
     "output_type": "stream",
     "text": [
      "done\n"
     ]
    }
   ],
   "source": [
    "tf.reset_default_graph()\n",
    "\n",
    "inputs = tf.placeholder(tf.float32, [Batch, Height, Width, Channels], name='inputs')\n",
    "z = tf.placeholder(tf.float32, [Batch, 62], name='z')\n",
    "outputs = generator(z)\n",
    "\n",
    "d_fake_logits = discriminator(outputs)\n",
    "d_real_logits = discriminator(inputs, reuse=True)\n",
    "\n",
    "g_loss, d_loss = get_gan_loss(d_real_logits, d_fake_logits)\n",
    "\n",
    "\"\"\" Training \"\"\"\n",
    "# divide trainable variables into a group for D and a group for G\n",
    "t_vars = tf.trainable_variables()\n",
    "    \n",
    "d_vars = [var for var in t_vars if 'discriminator' in var.name]\n",
    "g_vars = [var for var in t_vars if 'generator' in var.name]\n",
    "\n",
    "learning_rate = 1e-4 * 2\n",
    "\n",
    "# optimizers\n",
    "with tf.control_dependencies(tf.get_collection(tf.GraphKeys.UPDATE_OPS)):\n",
    "    d_optim = tf.train.AdamOptimizer(learning_rate, beta1=0.5).minimize(d_loss, var_list=d_vars)\n",
    "    g_optim = tf.train.AdamOptimizer(learning_rate * 5, beta1=0.5).minimize(g_loss, var_list=g_vars)\n",
    "    \n",
    "sess = tf.Session()\n",
    "sess.run(tf.global_variables_initializer())\n",
    "\n",
    "print('done')\n"
   ]
  },
  {
   "cell_type": "markdown",
   "metadata": {},
   "source": [
    "# Training Loop"
   ]
  },
  {
   "cell_type": "code",
   "execution_count": 43,
   "metadata": {
    "scrolled": false
   },
   "outputs": [
    {
     "data": {
      "image/png": "[encoded data removed]",
      "text/plain": [
       "<Figure size 720x720 with 25 Axes>"
      ]
     },
     "metadata": {
      "needs_background": "light"
     },
     "output_type": "display_data"
    }
   ],
   "source": [
    "from IPython.display import clear_output\n",
    "from tqdm import tqdm_notebook as tqdm\n",
    "import matplotlib.pyplot as plt\n",
    "\n",
    "batch_size = 100\n",
    "step = 0\n",
    "\n",
    "while(True):\n",
    "    for _ in tqdm(range(1000)):\n",
    "        indexes = np.random.randint(0, len(x_train), batch_size)\n",
    "        _inputs = x_train[indexes]\n",
    "        _inputs = _inputs[:, :, :, None]\n",
    "        _z = np.random.uniform(-1, 1, [batch_size, 62]).astype(np.float32)\n",
    "        \n",
    "        #discriminator\n",
    "        for _ in range(5):\n",
    "            _, _d_loss = sess.run([d_optim, d_loss], feed_dict={inputs: _inputs,\n",
    "                                                                z: _z})\n",
    "\n",
    "        #generator\n",
    "        for _ in range(1):\n",
    "            _, _g_loss, _outputs = sess.run([g_optim, g_loss, outputs], feed_dict={inputs: _inputs,\n",
    "                                                                                   z: _z})\n",
    "\n",
    "        #print(_d_loss, _g_loss)\n",
    "            \n",
    "    clear_output()\n",
    "    \n",
    "    plt.figure(figsize=[10, 10])\n",
    "    for i in range(5):\n",
    "        for j in range(5):\n",
    "            plt.subplot(5, 5, i * 5 + (j + 1))\n",
    "            plt.imshow(_outputs[i * 5 + j , :, :, 0])\n",
    "    plt.show()\n",
    "    \n",
    "    if step > 10000:\n",
    "        break\n",
    "        "
   ]
  }
 ],
 "metadata": {
  "kernelspec": {
   "display_name": "Python 3",
   "language": "python",
   "name": "python3"
  },
  "language_info": {
   "codemirror_mode": {
    "name": "ipython",
    "version": 3
   },
   "file_extension": ".py",
   "mimetype": "text/x-python",
   "name": "python",
   "nbconvert_exporter": "python",
   "pygments_lexer": "ipython3",
   "version": "3.6.7"
  }
 },
 "nbformat": 4,
 "nbformat_minor": 2
}
